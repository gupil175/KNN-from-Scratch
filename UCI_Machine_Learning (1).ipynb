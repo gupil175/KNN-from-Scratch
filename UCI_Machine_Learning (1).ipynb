{
  "cells": [
    {
      "cell_type": "code",
      "execution_count": 7,
      "metadata": {
        "id": "eubbMSYbG3jk"
      },
      "outputs": [],
      "source": [
        "import warnings\n",
        "import csv\n",
        "from collections import Counter"
      ]
    },
    {
      "cell_type": "markdown",
      "metadata": {
        "id": "wlf6zxEdG3jo"
      },
      "source": [
        "1. Load the three datasets from the UCI-Machine Learning Repository:"
      ]
    },
    {
      "cell_type": "code",
      "execution_count": 8,
      "metadata": {
        "id": "YzHIPAM3G3js"
      },
      "outputs": [],
      "source": [
        "# File names of the datasets\n",
        "file1 = 'hayes-roth.data'\n",
        "file2 = 'car.data'\n",
        "file3 = 'breast-cancer.data'"
      ]
    },
    {
      "cell_type": "code",
      "execution_count": 9,
      "metadata": {
        "colab": {
          "base_uri": "https://localhost:8080/"
        },
        "id": "r2fo6LDVK13W",
        "outputId": "4727e8e1-5b3e-419e-c6e9-a45ea94c50f5"
      },
      "outputs": [
        {
          "output_type": "stream",
          "name": "stdout",
          "text": [
            "hayes-roth.data\n"
          ]
        }
      ],
      "source": [
        "print('hayes-roth.data')"
      ]
    },
    {
      "cell_type": "code",
      "execution_count": 10,
      "metadata": {
        "id": "yWhbWopyG3jt"
      },
      "outputs": [],
      "source": [
        "#Handle data\n",
        "def loadCsv(filename):\n",
        "\tlines = csv.reader(open(filename, \"r\"))\n",
        "\tdataset = list(lines)\n",
        "\treturn dataset"
      ]
    },
    {
      "cell_type": "code",
      "execution_count": 11,
      "metadata": {
        "id": "L_nJDJ21G3ju"
      },
      "outputs": [],
      "source": [
        "#Load All the three datasets\n",
        "\n",
        "# 1. Hayes Roth data\n",
        "Hayes_Roth_data1 = loadCsv(file1)\n",
        "# 2. Car data\n",
        "Car_data2 = loadCsv(file2)\n",
        "# 3. Breast Cancer data\n",
        "Breast_Cancer_data3 = loadCsv(file3)"
      ]
    },
    {
      "cell_type": "markdown",
      "metadata": {
        "id": "PLSsariyG3jv"
      },
      "source": [
        "#### Hayes-Roth Dataset Attributes\n",
        "        1. name:              distinct for each instance and represented numerically\n",
        "        2. hobby:             nominal values ranging between 1 and 3\n",
        "        3. age:               nominal values ranging between 1 and 4\n",
        "        4. educational level: nominal values ranging between 1 and 4\n",
        "        5. marital status:    nominal values ranging between 1 and 4\n",
        "        6. class:             nominal value between 1 and 3"
      ]
    },
    {
      "cell_type": "markdown",
      "metadata": {
        "id": "6AtOW_SGG3jz"
      },
      "source": [
        "#### Car Evaluation Dataset Attributes\n",
        "\n",
        "        1. buying:   vhigh, high, med, low.\n",
        "        2. maint:    vhigh, high, med, low.\n",
        "        3. doors:    2, 3, 4, 5more.\n",
        "        4. persons:  2, 4, more.\n",
        "        5. lug_boot: small, med, big.\n",
        "        6. safety:   low, med, high.\n",
        "        7. class:    unacc, acc, good, vgood"
      ]
    },
    {
      "cell_type": "markdown",
      "metadata": {
        "id": "mYBxpRXkG3j1"
      },
      "source": [
        "#### Breast Cancer Dataset Attributes\n",
        "\n",
        "        1. Class:       no-recurrence-events, recurrence-events\n",
        "        2. age:         10-19, 20-29, 30-39, 40-49, 50-59, 60-69, 70-79, 80-89, 90-99.\n",
        "        3. menopause:   lt40, ge40, premeno.\n",
        "        4. tumor-size:  0-4, 5-9, 10-14, 15-19, 20-24, 25-29, 30-34, 35-39, 40-44, 45-49, 50-54, 55-59.\n",
        "        5. inv-nodes:   0-2, 3-5, 6-8, 9-11, 12-14, 15-17, 18-20, 21-23, 24-26, 27-29, 30-32, 33-35, 36-39.\n",
        "        6. node-caps:   yes, no.\n",
        "        7. deg-malig:   1, 2, 3.\n",
        "        8. breast:      left, right.\n",
        "        9. breast-quad: left-up, left-low, right-up,\tright-low, central.\n",
        "        10. irradiat:   yes, no."
      ]
    },
    {
      "cell_type": "markdown",
      "metadata": {
        "id": "ejZFiCpbG3j4"
      },
      "source": [
        "2. Prepare the dataset - Perform any necessary data preprocessing (e.g., one-hot encoding)."
      ]
    },
    {
      "cell_type": "code",
      "execution_count": 12,
      "metadata": {
        "colab": {
          "base_uri": "https://localhost:8080/"
        },
        "id": "JahxEz29G3j4",
        "outputId": "8bdd4b9c-0650-4518-9324-d1648c57b9e0"
      },
      "outputs": [
        {
          "output_type": "execute_result",
          "data": {
            "text/plain": [
              "[['92', '2', '1', '1', '2', '1'],\n",
              " ['10', '2', '1', '3', '2', '2'],\n",
              " ['83', '3', '1', '4', '1', '3'],\n",
              " ['61', '2', '4', '2', '2', '3'],\n",
              " ['107', '1', '1', '3', '4', '3'],\n",
              " ['113', '1', '1', '3', '2', '2'],\n",
              " ['80', '3', '1', '3', '2', '2'],\n",
              " ['125', '3', '4', '2', '4', '3'],\n",
              " ['36', '2', '2', '1', '1', '1'],\n",
              " ['105', '3', '2', '1', '1', '1']]"
            ]
          },
          "metadata": {},
          "execution_count": 12
        }
      ],
      "source": [
        "Hayes_Roth_data1[0:10]"
      ]
    },
    {
      "cell_type": "code",
      "execution_count": 13,
      "metadata": {
        "id": "BETuqLzGG3j5"
      },
      "outputs": [],
      "source": [
        "def encode_class_labels(data):\n",
        "    class_labels = {label: i for i, label in enumerate(set(row[-1] for row in data))}\n",
        "    for row in data:\n",
        "        row[-1] = class_labels[row[-1]]\n",
        "    return data"
      ]
    },
    {
      "cell_type": "code",
      "execution_count": 14,
      "metadata": {
        "id": "I9ni72fNG3j6"
      },
      "outputs": [],
      "source": [
        "Hayes_Roth_data1 = encode_class_labels(Hayes_Roth_data1)\n",
        "for i in range(len(Hayes_Roth_data1)):\n",
        "    Hayes_Roth_data1[i] = [int(x) for x in Hayes_Roth_data1[i]]\n"
      ]
    },
    {
      "cell_type": "code",
      "execution_count": 15,
      "metadata": {
        "id": "XT-Uu5xoG3j7"
      },
      "outputs": [],
      "source": [
        "# Encoding for the Car Evaluation Data\n",
        "\n",
        "# Define attribute value mappings\n",
        "attribute_maps_car = {\n",
        "    'buying': {'vhigh': 0, 'high': 1, 'med': 2, 'low': 3},\n",
        "    'maint': {'vhigh': 0, 'high': 1, 'med': 2, 'low': 3},\n",
        "    'doors': {'2': 0, '3': 1, '4': 2, '5more': 3},\n",
        "    'persons': {'2': 0, '4': 1, 'more': 2},\n",
        "    'lug_boot': {'small': 0, 'med': 1, 'big': 2},\n",
        "    'safety': {'low': 0, 'med': 1, 'high': 2}\n",
        "}\n",
        "\n",
        "\n",
        "# Loop through each row of the dataset and replace attribute values with mappings\n",
        "for row in Car_data2:\n",
        "    row[:6] = [attribute_maps_car[attr][value] for attr, value in zip(['buying', 'maint', 'doors', 'persons', 'lug_boot', 'safety'], row[:6])]\n",
        "\n",
        "# encode the class variables for the Car Evaluation data\n",
        "Car_data2 = encode_class_labels(Car_data2)\n"
      ]
    },
    {
      "cell_type": "code",
      "execution_count": 16,
      "metadata": {
        "id": "UPuApH4uG3j8"
      },
      "outputs": [],
      "source": [
        "# Encoding for the Breast Cancer Data\n",
        "\n",
        "# Move the class label to the last column\n",
        "for row in Breast_Cancer_data3:\n",
        "    row.append(row.pop(0))\n",
        "\n",
        "# Define attribute value mappings\n",
        "attribute_maps_breast = {\n",
        "    'age': {'10-19': 0, '20-29': 1, '30-39': 2, '40-49': 3, '50-59': 4, '60-69': 5, '70-79': 6, '80-89': 7, '90-99': 8},\n",
        "    'menopause': {'lt40': 0, 'ge40': 1, 'premeno': 2},\n",
        "    'tumor_size': {'0-4': 0, '5-9': 1, '10-14': 2, '15-19': 3, '20-24': 4, '25-29': 5, '30-34': 6, '35-39': 7, '40-44': 8, '45-49': 9, '50-54': 10},\n",
        "    'inv_nodes': {'0-2': 0, '3-5': 1, '6-8': 2, '9-11': 3, '12-14': 4, '15-17': 5, '18-20': 6, '21-23': 7, '24-26': 8, '27-29': 9, '30-32': 10, '33-35': 11, '36-39': 12, '40-44': 13, '45-49': 14, '50-54': 15, '55-59': 16},\n",
        "    'node_caps': {'yes': 0, 'no': 1},\n",
        "    'deg_malig': {'1': 0, '2': 1, '3': 2},\n",
        "    'breast': {'left': 0, 'right': 1},\n",
        "    'breast_quad': {'left_up': 0, 'left_low': 1, 'right_up': 2, 'right_low': 3, 'central': 4},\n",
        "    'irradiat': {'yes': 0, 'no': 1}\n",
        "}\n",
        "\n",
        "\n",
        "# Replace missing values with the most common value for each attribute\n",
        "for i in range(len(Breast_Cancer_data3[0])):\n",
        "    col = [row[i] for row in Breast_Cancer_data3 if row[i] != '?']\n",
        "    most_common = Counter(col).most_common(1)[0][0]\n",
        "    for row in Breast_Cancer_data3:\n",
        "        if row[i] == '?':\n",
        "            row[i] = most_common\n",
        "\n",
        "# Loop through each row and replace attribute values with their integer mappings\n",
        "for row in Breast_Cancer_data3:\n",
        "    row[:9] = [attribute_maps_breast[attr][value] for attr, value in zip(['age', 'menopause', 'tumor_size', 'inv_nodes', 'node_caps', 'deg_malig', 'breast', 'breast_quad', 'irradiat'], row[:9])]\n",
        "\n",
        "# encode the class variables for the breast cancer data\n",
        "Breast_Cancer_data3 = encode_class_labels(Breast_Cancer_data3)"
      ]
    },
    {
      "cell_type": "markdown",
      "metadata": {
        "id": "tLDwKs7fG3j9"
      },
      "source": [
        "3. Implementation of  the K-Nearest Neighbors algorithm from scratch."
      ]
    },
    {
      "cell_type": "code",
      "execution_count": 17,
      "metadata": {
        "id": "2Go6t8O3G3j9"
      },
      "outputs": [],
      "source": [
        "# Euclidean distance function\n",
        "def euclidean_distance(x1, x2):\n",
        "    distance = 0\n",
        "    for i in range(len(x1)):\n",
        "        distance += (x1[i] - x2[i]) ** 2\n",
        "    return distance ** 0.5\n",
        "\n",
        "\n",
        "# KNN algorithm\n",
        "def knn(train_data, test_instance, k):\n",
        "    distances = []\n",
        "    for i, train_instance in enumerate(train_data):\n",
        "        dist = euclidean_distance(train_instance[:-1], test_instance[:-1])\n",
        "        distances.append((i, dist))\n",
        "    distances.sort(key=lambda x: x[1])\n",
        "    neighbors = [train_data[i] for i, _ in distances[:k]]\n",
        "    return neighbors\n",
        "\n",
        "\n",
        "# Predict the class label based on k neighbors\n",
        "def predict(neighbors):\n",
        "    class_labels = [neighbor[-1] for neighbor in neighbors]\n",
        "    most_common = Counter(class_labels).most_common(1)\n",
        "    return most_common[0][0]"
      ]
    },
    {
      "cell_type": "markdown",
      "metadata": {
        "id": "ZbmAR3LiG3j-"
      },
      "source": [
        "4. Implementation of  the K-Folds Cross Validation algorithm from scratch."
      ]
    },
    {
      "cell_type": "code",
      "execution_count": 18,
      "metadata": {
        "id": "GtKD39JAG3j_"
      },
      "outputs": [],
      "source": [
        "# K-fold cross-validation\n",
        "def k_fold_cross_validation(data, k_folds, k_neighbors):\n",
        "    kf = KFold(n_splits=k_folds, shuffle=True)\n",
        "    accuracies = []\n",
        "\n",
        "    for train_index, test_index in kf.split(data):\n",
        "        train_data = [data[i] for i in train_index]\n",
        "        test_data = [data[i] for i in test_index]\n",
        "\n",
        "        correct_predictions = 0\n",
        "        for test_instance in test_data:\n",
        "            neighbors = knn(train_data, test_instance, k_neighbors)\n",
        "            prediction = predict(neighbors)\n",
        "            if prediction == test_instance[-1]:\n",
        "                correct_predictions += 1\n",
        "\n",
        "        accuracy = correct_predictions / len(test_data)\n",
        "        accuracies.append(accuracy)\n",
        "        print(f\"Fold {len(accuracies)}, Accuracy: {accuracy:.2%}\")\n",
        "\n",
        "    average_accuracy = sum(accuracies) / k_folds\n",
        "    print(f\"\\nAverage Accuracy over {k_folds} folds: {average_accuracy:.2%}\")\n",
        "    return accuracies"
      ]
    },
    {
      "cell_type": "markdown",
      "metadata": {
        "id": "QPmDkyI7G3j_"
      },
      "source": [
        "5. Apply KNN algorithm using 10-Fold cross validation on the following datasets:\n",
        "\n",
        "        A. Hayes-Roth\n",
        "        B. Car Evaluation\n",
        "        C. Breast Cancer"
      ]
    },
    {
      "cell_type": "markdown",
      "metadata": {
        "id": "f3J33m9RG3kD"
      },
      "source": [
        "6. Implementation of Scikit Learn based K-Nearest Neighbors Classifier for all Dataset:"
      ]
    },
    {
      "cell_type": "code",
      "execution_count": 19,
      "metadata": {
        "id": "pKqSdvamG3kD"
      },
      "outputs": [],
      "source": [
        "#import the required libaries for the scikit learn based knn classifier\n",
        "from sklearn.model_selection import KFold\n",
        "from sklearn.neighbors import KNeighborsClassifier\n",
        "from sklearn.metrics import accuracy_score"
      ]
    },
    {
      "cell_type": "code",
      "execution_count": 20,
      "metadata": {
        "id": "Y-5cVdIHG3kE"
      },
      "outputs": [],
      "source": [
        "def knn_with_cross_validation(dataset, k_neighbors=3, k_folds=10):\n",
        "    X = [row[:-1] for row in dataset]\n",
        "    y = [row[-1] for row in dataset]\n",
        "\n",
        "    knn_classifier = KNeighborsClassifier(n_neighbors=k_neighbors)\n",
        "    kf = KFold(n_splits=k_folds, shuffle=True, random_state=42)\n",
        "\n",
        "    accuracies = []\n",
        "    for train_index, test_index in kf.split(X):\n",
        "        X_train, X_test = [X[i] for i in train_index], [X[i] for i in test_index]\n",
        "        y_train, y_test = [y[i] for i in train_index], [y[i] for i in test_index]\n",
        "\n",
        "        knn_classifier.fit(X_train, y_train)\n",
        "        y_pred = knn_classifier.predict(X_test)\n",
        "\n",
        "        accuracy = accuracy_score(y_test, y_pred)\n",
        "        accuracies.append(accuracy)\n",
        "        print(f\"Accuracy (Scikit-learn KNN): {accuracy:.2%}\")\n",
        "\n",
        "    average_accuracy = sum(accuracies) / k_folds\n",
        "    print(f\"\\nAverage Accuracy (Scikit-learn KNN) over {k_folds} folds: {average_accuracy:.2%}\")\n",
        "    return accuracies\n"
      ]
    },
    {
      "cell_type": "code",
      "execution_count": 21,
      "metadata": {
        "colab": {
          "base_uri": "https://localhost:8080/"
        },
        "id": "YpXCEhpEG3kF",
        "outputId": "a21df329-0124-4e0f-edfb-d137cd7af4bf"
      },
      "outputs": [
        {
          "output_type": "stream",
          "name": "stdout",
          "text": [
            "\n",
            "(Scikit-learn KNN) with Cross-Validation for Hayes-Roth:\n",
            "Accuracy (Scikit-learn KNN): 42.86%\n",
            "Accuracy (Scikit-learn KNN): 50.00%\n",
            "Accuracy (Scikit-learn KNN): 46.15%\n",
            "Accuracy (Scikit-learn KNN): 30.77%\n",
            "Accuracy (Scikit-learn KNN): 46.15%\n",
            "Accuracy (Scikit-learn KNN): 38.46%\n",
            "Accuracy (Scikit-learn KNN): 38.46%\n",
            "Accuracy (Scikit-learn KNN): 46.15%\n",
            "Accuracy (Scikit-learn KNN): 38.46%\n",
            "Accuracy (Scikit-learn KNN): 38.46%\n",
            "\n",
            "Average Accuracy (Scikit-learn KNN) over 10 folds: 41.59%\n"
          ]
        }
      ],
      "source": [
        "# data1 is Hayes-Roth\n",
        "print(\"\\n(Scikit-learn KNN) with Cross-Validation for Hayes-Roth:\")\n",
        "hayes_roth_accuracies_sk = knn_with_cross_validation(Hayes_Roth_data1)"
      ]
    },
    {
      "cell_type": "code",
      "execution_count": 22,
      "metadata": {
        "colab": {
          "base_uri": "https://localhost:8080/"
        },
        "id": "xXbCbiycG3kG",
        "outputId": "183ed448-8765-4153-d862-121fdf336a90"
      },
      "outputs": [
        {
          "output_type": "stream",
          "name": "stdout",
          "text": [
            "\n",
            "(Scikit-learn KNN) with Cross-Validation for Car Evaluation:\n",
            "Accuracy (Scikit-learn KNN): 87.28%\n",
            "Accuracy (Scikit-learn KNN): 87.86%\n",
            "Accuracy (Scikit-learn KNN): 87.86%\n",
            "Accuracy (Scikit-learn KNN): 91.33%\n",
            "Accuracy (Scikit-learn KNN): 94.80%\n",
            "Accuracy (Scikit-learn KNN): 87.28%\n",
            "Accuracy (Scikit-learn KNN): 87.86%\n",
            "Accuracy (Scikit-learn KNN): 90.17%\n",
            "Accuracy (Scikit-learn KNN): 88.37%\n",
            "Accuracy (Scikit-learn KNN): 84.30%\n",
            "\n",
            "Average Accuracy (Scikit-learn KNN) over 10 folds: 88.71%\n"
          ]
        }
      ],
      "source": [
        "# data2 is Car Evaluation\n",
        "print(\"\\n(Scikit-learn KNN) with Cross-Validation for Car Evaluation:\")\n",
        "car_evaluation_accuracies_sk = knn_with_cross_validation(Car_data2)"
      ]
    },
    {
      "cell_type": "code",
      "execution_count": 23,
      "metadata": {
        "colab": {
          "base_uri": "https://localhost:8080/"
        },
        "id": "tnZw5-AlG3kH",
        "outputId": "02d4518e-db87-4136-fe48-b695836a7d9e"
      },
      "outputs": [
        {
          "output_type": "stream",
          "name": "stdout",
          "text": [
            "\n",
            "(Scikit-learn KNN) with Cross-Validation for Breast Cancer:\n",
            "Accuracy (Scikit-learn KNN): 75.86%\n",
            "Accuracy (Scikit-learn KNN): 65.52%\n",
            "Accuracy (Scikit-learn KNN): 75.86%\n",
            "Accuracy (Scikit-learn KNN): 62.07%\n",
            "Accuracy (Scikit-learn KNN): 72.41%\n",
            "Accuracy (Scikit-learn KNN): 65.52%\n",
            "Accuracy (Scikit-learn KNN): 71.43%\n",
            "Accuracy (Scikit-learn KNN): 67.86%\n",
            "Accuracy (Scikit-learn KNN): 60.71%\n",
            "Accuracy (Scikit-learn KNN): 82.14%\n",
            "\n",
            "Average Accuracy (Scikit-learn KNN) over 10 folds: 69.94%\n"
          ]
        }
      ],
      "source": [
        "# data3 is Breast Cancer\n",
        "print(\"\\n(Scikit-learn KNN) with Cross-Validation for Breast Cancer:\")\n",
        "breast_cancer_accuracies_sk = knn_with_cross_validation(Breast_Cancer_data3)"
      ]
    },
    {
      "cell_type": "markdown",
      "metadata": {
        "id": "cJZzbTaiG3kI"
      },
      "source": [
        "7. Comparison of the Result Accuracies for all dataset btw KNN Classifier From Scratch and Scikit Learn based KNN Classifier"
      ]
    },
    {
      "cell_type": "markdown",
      "metadata": {
        "id": "Wun-ahAzG3kJ"
      },
      "source": [
        "        Hayes Roth"
      ]
    },
    {
      "cell_type": "code",
      "execution_count": 24,
      "metadata": {
        "id": "BbgdTH0yG3kL"
      },
      "outputs": [],
      "source": [
        "def perform_paired_t_test(data1, data2):\n",
        "    from scipy.stats import ttest_rel\n",
        "    t_statistic, p_value = ttest_rel(data1, data2)\n",
        "    print(f\"T-statistic: {t_statistic}\")\n",
        "    print(f\"P-value: {p_value}\")\n",
        "    if p_value < 0.05:\n",
        "        print(\"The difference is statistically significant.\")\n",
        "    else:\n",
        "        print(\"The difference is not statistically significant.\")\n"
      ]
    },
    {
      "cell_type": "markdown",
      "metadata": {
        "id": "PPCl-UkhG3kM"
      },
      "source": [
        "        Car Evaluation"
      ]
    },
    {
      "cell_type": "markdown",
      "metadata": {
        "id": "V8YzhN4kG3kO"
      },
      "source": [
        "        Breast Cancer"
      ]
    },
    {
      "cell_type": "code",
      "execution_count": 26,
      "metadata": {
        "id": "dvwjJ6tNG3k4",
        "colab": {
          "base_uri": "https://localhost:8080/",
          "height": 245
        },
        "outputId": "3417ebfc-e924-4ba5-956f-8ee27a5baed8"
      },
      "outputs": [
        {
          "output_type": "stream",
          "name": "stdout",
          "text": [
            "\n",
            "Paired t-test results for Hayes-Roth:\n"
          ]
        },
        {
          "output_type": "error",
          "ename": "TypeError",
          "evalue": "perform_paired_t_test() missing 1 required positional argument: 'data2'",
          "traceback": [
            "\u001b[0;31m---------------------------------------------------------------------------\u001b[0m",
            "\u001b[0;31mTypeError\u001b[0m                                 Traceback (most recent call last)",
            "\u001b[0;32m<ipython-input-26-80f678157438>\u001b[0m in \u001b[0;36m<cell line: 2>\u001b[0;34m()\u001b[0m\n\u001b[1;32m      1\u001b[0m \u001b[0mprint\u001b[0m\u001b[0;34m(\u001b[0m\u001b[0;34m\"\\nPaired t-test results for Hayes-Roth:\"\u001b[0m\u001b[0;34m)\u001b[0m\u001b[0;34m\u001b[0m\u001b[0;34m\u001b[0m\u001b[0m\n\u001b[0;32m----> 2\u001b[0;31m \u001b[0mperform_paired_t_test\u001b[0m\u001b[0;34m(\u001b[0m\u001b[0mhayes_roth_accuracies_sk\u001b[0m\u001b[0;34m)\u001b[0m\u001b[0;34m\u001b[0m\u001b[0;34m\u001b[0m\u001b[0m\n\u001b[0m\u001b[1;32m      3\u001b[0m \u001b[0;34m\u001b[0m\u001b[0m\n\u001b[1;32m      4\u001b[0m \u001b[0mprint\u001b[0m\u001b[0;34m(\u001b[0m\u001b[0;34m\"\\nPaired t-test results for Car Evaluation:\"\u001b[0m\u001b[0;34m)\u001b[0m\u001b[0;34m\u001b[0m\u001b[0;34m\u001b[0m\u001b[0m\n\u001b[1;32m      5\u001b[0m \u001b[0mperform_paired_t_test\u001b[0m\u001b[0;34m(\u001b[0m\u001b[0mcar_evaluation_accuracies_sk\u001b[0m\u001b[0;34m)\u001b[0m\u001b[0;34m\u001b[0m\u001b[0;34m\u001b[0m\u001b[0m\n",
            "\u001b[0;31mTypeError\u001b[0m: perform_paired_t_test() missing 1 required positional argument: 'data2'"
          ]
        }
      ],
      "source": [
        "print(\"\\nPaired t-test results for Hayes-Roth:\")\n",
        "perform_paired_t_test(hayes_roth_accuracies, hayes_roth_accuracies_sk)\n",
        "\n",
        "print(\"\\nPaired t-test results for Car Evaluation:\")\n",
        "perform_paired_t_test(car_evaluation_accuracies, car_evaluation_accuracies_sk)\n",
        "\n",
        "print(\"\\nPaired t-test results for Breast Cancer:\")\n",
        "perform_paired_t_test(breast_cancer_accuracies, breast_cancer_accuracies_sk)"
      ]
    },
    {
      "cell_type": "code",
      "execution_count": null,
      "metadata": {
        "id": "M2UhVMjXG3k5"
      },
      "outputs": [],
      "source": []
    },
    {
      "cell_type": "code",
      "execution_count": null,
      "metadata": {
        "id": "cStqPDDxG3k5"
      },
      "outputs": [],
      "source": [
        "\n"
      ]
    },
    {
      "cell_type": "code",
      "execution_count": null,
      "metadata": {
        "id": "rov334T3G3k6"
      },
      "outputs": [],
      "source": []
    },
    {
      "cell_type": "code",
      "execution_count": 27,
      "metadata": {
        "id": "ZYOxb_N6G3k6",
        "colab": {
          "base_uri": "https://localhost:8080/"
        },
        "outputId": "bfc9e391-60b6-4c2b-81ae-0cd4916447a7"
      },
      "outputs": [
        {
          "output_type": "stream",
          "name": "stdout",
          "text": [
            "\n",
            "Paired t-test results for Hayes-Roth:\n",
            "T-statistic: -1.176383517921496\n",
            "P-value: 0.2696183557138195\n",
            "The difference is not statistically significant.\n",
            "\n",
            "Paired t-test results for Car Evaluation:\n",
            "T-statistic: -0.3097139905233788\n",
            "P-value: 0.7638294630615718\n",
            "The difference is not statistically significant.\n",
            "\n",
            "Paired t-test results for Breast Cancer:\n",
            "T-statistic: -0.5998239009644394\n",
            "P-value: 0.563418407031062\n",
            "The difference is not statistically significant.\n"
          ]
        }
      ],
      "source": [
        "import warnings\n",
        "import csv\n",
        "from collections import Counter\n",
        "from sklearn.model_selection import KFold\n",
        "from sklearn.neighbors import KNeighborsClassifier\n",
        "from sklearn.metrics import accuracy_score\n",
        "from scipy.stats import ttest_rel\n",
        "\n",
        "warnings.filterwarnings('ignore')\n",
        "\n",
        "# 1. Load the three datasets from the UCI-Machine Learning Repository:\n",
        "\n",
        "# File names of the datasets\n",
        "file1 = 'hayes-roth.data'\n",
        "file2 = 'car.data'\n",
        "file3 = 'breast-cancer.data'\n",
        "\n",
        "\n",
        "# Handle data\n",
        "def load_csv(filename):\n",
        "    with open(filename, \"r\") as file:\n",
        "        lines = csv.reader(file)\n",
        "        dataset = list(lines)\n",
        "    return dataset\n",
        "\n",
        "\n",
        "# Load All the three datasets\n",
        "\n",
        "# 1. Hayes Roth data\n",
        "Hayes_Roth_data1 = load_csv(file1)\n",
        "# 2. Car data\n",
        "Car_data2 = load_csv(file2)\n",
        "# 3. Breast Cancer data\n",
        "Breast_Cancer_data3 = load_csv(file3)\n",
        "\n",
        "\n",
        "# Function to Encode class labels to numerical values\n",
        "def encode_class_labels(data):\n",
        "    class_labels = {label: i for i, label in enumerate(set(row[-1] for row in data))}\n",
        "    for row in data:\n",
        "        row[-1] = class_labels[row[-1]]\n",
        "    return data\n",
        "\n",
        "\n",
        "# Encoding for Hayes data\n",
        "Hayes_Roth_data1 = encode_class_labels(Hayes_Roth_data1)\n",
        "for i in range(len(Hayes_Roth_data1)):\n",
        "    Hayes_Roth_data1[i] = [int(x) for x in Hayes_Roth_data1[i]]\n",
        "\n",
        "# Encoding for the Car Evaluation Data\n",
        "\n",
        "# Define attribute value mappings\n",
        "attribute_maps_car = {\n",
        "    'buying': {'vhigh': 0, 'high': 1, 'med': 2, 'low': 3},\n",
        "    'maint': {'vhigh': 0, 'high': 1, 'med': 2, 'low': 3},\n",
        "    'doors': {'2': 0, '3': 1, '4': 2, '5more': 3},\n",
        "    'persons': {'2': 0, '4': 1, 'more': 2},\n",
        "    'lug_boot': {'small': 0, 'med': 1, 'big': 2},\n",
        "    'safety': {'low': 0, 'med': 1, 'high': 2}\n",
        "}\n",
        "\n",
        "\n",
        "# Loop through each row of the dataset and replace attribute values with mappings\n",
        "for row in Car_data2:\n",
        "    row[:6] = [attribute_maps_car[attr][value] for attr, value in zip(['buying', 'maint', 'doors', 'persons', 'lug_boot', 'safety'], row[:6])]\n",
        "\n",
        "# encode the class variables for the Car Evaluation data\n",
        "Car_data2 = encode_class_labels(Car_data2)\n",
        "\n",
        "# Encoding for the Breast Cancer Data\n",
        "\n",
        "# Move the class label to the last column\n",
        "for row in Breast_Cancer_data3:\n",
        "    row.append(row.pop(0))\n",
        "\n",
        "# Define attribute value mappings\n",
        "attribute_maps_breast = {\n",
        "    'age': {'10-19': 0, '20-29': 1, '30-39': 2, '40-49': 3, '50-59': 4, '60-69': 5, '70-79': 6, '80-89': 7, '90-99': 8},\n",
        "    'menopause': {'lt40': 0, 'ge40': 1, 'premeno': 2},\n",
        "    'tumor_size': {'0-4': 0, '5-9': 1, '10-14': 2, '15-19': 3, '20-24': 4, '25-29': 5, '30-34': 6, '35-39': 7, '40-44': 8, '45-49': 9, '50-54': 10},\n",
        "    'inv_nodes': {'0-2': 0, '3-5': 1, '6-8': 2, '9-11': 3, '12-14': 4, '15-17': 5, '18-20': 6, '21-23': 7, '24-26': 8, '27-29': 9, '30-32': 10, '33-35': 11, '36-39': 12, '40-44': 13, '45-49': 14, '50-54': 15, '55-59': 16},\n",
        "    'node_caps': {'yes': 0, 'no': 1},\n",
        "    'deg_malig': {'1': 0, '2': 1, '3': 2},\n",
        "    'breast': {'left': 0, 'right': 1},\n",
        "    'breast_quad': {'left_up': 0, 'left_low': 1, 'right_up': 2, 'right_low': 3, 'central': 4},\n",
        "    'irradiat': {'yes': 0, 'no': 1}\n",
        "}\n",
        "\n",
        "\n",
        "# Replace missing values with the most common value for each attribute\n",
        "for i in range(len(Breast_Cancer_data3[0])):\n",
        "    col = [row[i] for row in Breast_Cancer_data3 if row[i] != '?']\n",
        "    most_common = Counter(col).most_common(1)[0][0]\n",
        "    for row in Breast_Cancer_data3:\n",
        "        if row[i] == '?':\n",
        "            row[i] = most_common\n",
        "\n",
        "# Loop through each row and replace attribute values with their integer mappings\n",
        "for row in Breast_Cancer_data3:\n",
        "    row[:9] = [attribute_maps_breast[attr][value] for attr, value in zip(['age', 'menopause', 'tumor_size', 'inv_nodes', 'node_caps', 'deg_malig', 'breast', 'breast_quad', 'irradiat'], row[:9])]\n",
        "\n",
        "# encode the class variables for the breast cancer data\n",
        "Breast_Cancer_data3 = encode_class_labels(Breast_Cancer_data3)\n",
        "\n",
        "\n",
        "# Euclidean distance function\n",
        "def euclidean_distance(x1, x2):\n",
        "    distance = 0\n",
        "    for i in range(len(x1)):\n",
        "        distance += (x1[i] - x2[i]) ** 2\n",
        "    return distance ** 0.5\n",
        "\n",
        "\n",
        "# KNN algorithm\n",
        "def knn(train_data, test_instance, k):\n",
        "    distances = []\n",
        "    for i, train_instance in enumerate(train_data):\n",
        "        dist = euclidean_distance(train_instance[:-1], test_instance[:-1])\n",
        "        distances.append((i, dist))\n",
        "    distances.sort(key=lambda x: x[1])\n",
        "    neighbors = [train_data[i] for i, _ in distances[:k]]\n",
        "    return neighbors\n",
        "\n",
        "\n",
        "# Predict the class label based on k neighbors\n",
        "def predict(neighbors):\n",
        "    class_labels = [neighbor[-1] for neighbor in neighbors]\n",
        "    most_common = Counter(class_labels).most_common(1)\n",
        "    return most_common[0][0]\n",
        "\n",
        "\n",
        "# K-fold cross-validation\n",
        "def k_fold_cross_validation(data, k_folds, k_neighbors):\n",
        "    kf = KFold(n_splits=k_folds, shuffle=True, random_state=None)\n",
        "    accuracies = []\n",
        "    for train_index, test_index in kf.split(data):\n",
        "        train_data = [data[i] for i in train_index]\n",
        "        test_data = [data[i] for i in test_index]\n",
        "        correct = 0\n",
        "        for test_instance in test_data:\n",
        "            neighbors = knn(train_data, test_instance, k_neighbors)\n",
        "            prediction = predict(neighbors)\n",
        "            if prediction == test_instance[-1]:\n",
        "                correct += 1\n",
        "        accuracies.append(correct / len(test_data))\n",
        "    return accuracies\n",
        "\n",
        "\n",
        "# Perform paired t-test\n",
        "def perform_paired_t_test(data1, data2):\n",
        "    t_stat, p_value = ttest_rel(data1, data2)\n",
        "    print(f\"T-statistic: {t_stat}\")\n",
        "    print(f\"P-value: {p_value}\")\n",
        "    if p_value < 0.05:\n",
        "        print(\"The difference is statistically significant.\")\n",
        "    else:\n",
        "        print(\"The difference is not statistically significant.\")\n",
        "\n",
        "\n",
        "# Apply KNN algorithm using 10-Fold cross validation on the datasets\n",
        "\n",
        "# Hayes-Roth\n",
        "hayes_roth_accuracies = k_fold_cross_validation(Hayes_Roth_data1, k_folds=10, k_neighbors=3)\n",
        "\n",
        "# Car Evaluation\n",
        "car_evaluation_accuracies = k_fold_cross_validation(Car_data2, k_folds=10, k_neighbors=3)\n",
        "\n",
        "# Breast Cancer\n",
        "breast_cancer_accuracies = k_fold_cross_validation(Breast_Cancer_data3, k_folds=10, k_neighbors=3)\n",
        "\n",
        "# Scikit-learn based KNN classifier\n",
        "def knn_with_cross_validation(dataset, k_neighbors=3, k_folds=10):\n",
        "    X = [row[:-1] for row in dataset]\n",
        "    y = [row[-1] for row in dataset]\n",
        "    kf = KFold(n_splits=k_folds, shuffle=True, random_state=None)\n",
        "    accuracies = []\n",
        "    for train_index, test_index in kf.split(X):\n",
        "        X_train, X_test = [X[i] for i in train_index], [X[i] for i in test_index]\n",
        "        y_train, y_test = [y[i] for i in train_index], [y[i] for i in test_index]\n",
        "        knn_classifier = KNeighborsClassifier(n_neighbors=k_neighbors)\n",
        "        knn_classifier.fit(X_train, y_train)\n",
        "        y_pred = knn_classifier.predict(X_test)\n",
        "        accuracy = accuracy_score(y_test, y_pred)\n",
        "        accuracies.append(accuracy)\n",
        "    return accuracies\n",
        "\n",
        "# Hayes-Roth\n",
        "hayes_roth_accuracies_sk = knn_with_cross_validation(Hayes_Roth_data1)\n",
        "\n",
        "# Car Evaluation\n",
        "car_evaluation_accuracies_sk = knn_with_cross_validation(Car_data2)\n",
        "\n",
        "# Breast Cancer\n",
        "breast_cancer_accuracies_sk = knn_with_cross_validation(Breast_Cancer_data3)\n",
        "\n",
        "# Comparison of the Result Accuracies for all datasets between KNN Classifier From Scratch and Scikit Learn based KNN Classifier\n",
        "\n",
        "print(\"\\nPaired t-test results for Hayes-Roth:\")\n",
        "perform_paired_t_test(hayes_roth_accuracies, hayes_roth_accuracies_sk)\n",
        "\n",
        "print(\"\\nPaired t-test results for Car Evaluation:\")\n",
        "perform_paired_t_test(car_evaluation_accuracies, car_evaluation_accuracies_sk)\n",
        "\n",
        "print(\"\\nPaired t-test results for Breast Cancer:\")\n",
        "perform_paired_t_test(breast_cancer_accuracies, breast_cancer_accuracies_sk)\n"
      ]
    }
  ],
  "metadata": {
    "colab": {
      "provenance": []
    },
    "kernelspec": {
      "display_name": "Python 3 (ipykernel)",
      "language": "python",
      "name": "python3"
    },
    "language_info": {
      "codemirror_mode": {
        "name": "ipython",
        "version": 3
      },
      "file_extension": ".py",
      "mimetype": "text/x-python",
      "name": "python",
      "nbconvert_exporter": "python",
      "pygments_lexer": "ipython3",
      "version": "3.9.13"
    }
  },
  "nbformat": 4,
  "nbformat_minor": 0
}